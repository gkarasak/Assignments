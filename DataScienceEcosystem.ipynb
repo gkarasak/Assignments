{
 "cells": [
  {
   "cell_type": "markdown",
   "id": "caea489b-0b8c-4e17-ba87-b1212c38219d",
   "metadata": {},
   "source": [
    "# Data Science Tools and Ecosystem"
   ]
  },
  {
   "cell_type": "markdown",
   "id": "7029e08c-56e0-490e-bccf-27abb7630bba",
   "metadata": {},
   "source": [
    "In this notebook, Data Science Tools and Ecosystem are summarized."
   ]
  },
  {
   "cell_type": "markdown",
   "id": "6f5769ee-72a9-4727-bd08-565abbe6d3e6",
   "metadata": {},
   "source": [
    "Some of the popular languages that Data Scientists use are:\n",
    "\n",
    "1. Python\n",
    "2. R\n",
    "3. SQL\n",
    "4. Julia\n"
   ]
  },
  {
   "cell_type": "markdown",
   "id": "b60438da-8c68-444a-ab45-57d5fa5cfd95",
   "metadata": {},
   "source": [
    "Some of the commonly used libraries by Data Scientists include:\n",
    "\n",
    "1. Pandas\n",
    "2. NumPy\n",
    "3. Scikit-learn\n",
    "4. TensorFlow\n"
   ]
  },
  {
   "cell_type": "markdown",
   "id": "73e1b466-5c7a-40a2-85dd-f739a026bdd4",
   "metadata": {},
   "source": [
    "| Data Science Tools      |\n",
    "|-------------------------|\n",
    "| Jupyter Notebook        |\n",
    "| RStudio                 |\n",
    "| Google Colab            |\n"
   ]
  },
  {
   "cell_type": "markdown",
   "id": "d1c7e7f2-e8d7-4927-8ca7-85a81129ee41",
   "metadata": {},
   "source": [
    "### Below are a few examples of evaluating arithmetic expressions in Python.\n",
    "\n",
    "| Data Science Tools      |\n",
    "|-------------------------|\n",
    "| Jupyter Notebook        |\n",
    "| RStudio                 |\n",
    "| Google Colab            |\n"
   ]
  },
  {
   "cell_type": "code",
   "execution_count": null,
   "id": "e850389f-53d5-47c3-9891-9c7d9d34c011",
   "metadata": {},
   "outputs": [],
   "source": [
    "# This is a simple arithmetic expression to multiply then add integers\n",
    "result = (3 * 4) + 5\n",
    "result\n"
   ]
  },
  {
   "cell_type": "code",
   "execution_count": null,
   "id": "8000f374-4b74-43b5-84ed-f0ab85dd768c",
   "metadata": {},
   "outputs": [],
   "source": [
    "# This will convert 200 minutes to hours by dividing by 60\n",
    "minutes = 200\n",
    "hours = minutes / 60\n",
    "hours\n"
   ]
  },
  {
   "cell_type": "markdown",
   "id": "18f5a6c2-d9ed-461e-9c8a-198f89275e84",
   "metadata": {},
   "source": [
    "**Objectives:**\n",
    "\n",
    "- List popular languages for Data Science\n",
    "- Create and format tables in Markdown\n",
    "- Evaluate arithmetic expressions in Python\n",
    "- Convert time units with Python code\n",
    "- Understand and use Markdown headings"
   ]
  },
  {
   "cell_type": "markdown",
   "id": "1b5defec-cadd-4890-a1ed-d98b10c7078b",
   "metadata": {},
   "source": [
    "## Author\r\n",
    "\r\n",
    "Georosgi Karasakalidos\r\n"
   ]
  }
 ],
 "metadata": {
  "kernelspec": {
   "display_name": "Python 3 (ipykernel)",
   "language": "python",
   "name": "python3"
  },
  "language_info": {
   "codemirror_mode": {
    "name": "ipython",
    "version": 3
   },
   "file_extension": ".py",
   "mimetype": "text/x-python",
   "name": "python",
   "nbconvert_exporter": "python",
   "pygments_lexer": "ipython3",
   "version": "3.12.4"
  }
 },
 "nbformat": 4,
 "nbformat_minor": 5
}
